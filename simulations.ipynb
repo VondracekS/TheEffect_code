{
 "cells": [
  {
   "cell_type": "markdown",
   "metadata": {},
   "source": [
    "#  N. H. Klein: Ch. 15 Simulations"
   ]
  },
  {
   "cell_type": "code",
   "execution_count": 1,
   "metadata": {},
   "outputs": [],
   "source": [
    "# Imports\n",
    "\n",
    "import pandas as pd\n",
    "import numpy as np\n",
    "\n",
    "# If we want the results to be the same\n",
    "# every time, set a seed\n",
    "np.random.seed(42)"
   ]
  },
  {
   "cell_type": "code",
   "execution_count": 2,
   "metadata": {},
   "outputs": [
    {
     "data": {
      "text/plain": [
       "True"
      ]
     },
     "execution_count": 2,
     "metadata": {},
     "output_type": "execute_result"
    }
   ],
   "source": [
    "fc_choice = ['FC0', 'FC5']\n",
    "'FC' not in fc_choice"
   ]
  },
  {
   "cell_type": "code",
   "execution_count": 41,
   "metadata": {},
   "outputs": [],
   "source": [
    "data = pd.DataFrame({\n",
    "    # normal data is by default mean 0, sd 1\n",
    "    'eps': np.random.normal(size = 200),\n",
    "    # Uniform data is by default from 0 to 1\n",
    "    'Y': np.random.uniform(size = 200),\n",
    "    # We can use binomial to make binary data\n",
    "    # with unequal probabilities\n",
    "    'X': np.random.binomial(1, .2, size = 200)\n",
    "})"
   ]
  },
  {
   "cell_type": "code",
   "execution_count": 44,
   "metadata": {},
   "outputs": [],
   "source": [
    "data = pd.DataFrame([np.random.normal(size=200),\n",
    "np.random.uniform(size=200),\n",
    "np.random.binomial(1, .2, size=200)]).transpose()"
   ]
  },
  {
   "cell_type": "code",
   "execution_count": 45,
   "metadata": {},
   "outputs": [],
   "source": [
    "data.columns = ['eps', 'Y', 'X']"
   ]
  },
  {
   "cell_type": "code",
   "execution_count": 47,
   "metadata": {},
   "outputs": [
    {
     "data": {
      "text/html": [
       "<div>\n",
       "<style scoped>\n",
       "    .dataframe tbody tr th:only-of-type {\n",
       "        vertical-align: middle;\n",
       "    }\n",
       "\n",
       "    .dataframe tbody tr th {\n",
       "        vertical-align: top;\n",
       "    }\n",
       "\n",
       "    .dataframe thead th {\n",
       "        text-align: right;\n",
       "    }\n",
       "</style>\n",
       "<table border=\"1\" class=\"dataframe\">\n",
       "  <thead>\n",
       "    <tr style=\"text-align: right;\">\n",
       "      <th></th>\n",
       "      <th>eps</th>\n",
       "      <th>Y</th>\n",
       "      <th>X</th>\n",
       "    </tr>\n",
       "  </thead>\n",
       "  <tbody>\n",
       "    <tr>\n",
       "      <th>id_000</th>\n",
       "      <td>-0.985804</td>\n",
       "      <td>0.039811</td>\n",
       "      <td>0.0</td>\n",
       "    </tr>\n",
       "    <tr>\n",
       "      <th>id_001</th>\n",
       "      <td>-0.284155</td>\n",
       "      <td>0.273988</td>\n",
       "      <td>1.0</td>\n",
       "    </tr>\n",
       "    <tr>\n",
       "      <th>id_002</th>\n",
       "      <td>1.194763</td>\n",
       "      <td>0.955649</td>\n",
       "      <td>0.0</td>\n",
       "    </tr>\n",
       "    <tr>\n",
       "      <th>id_003</th>\n",
       "      <td>0.894647</td>\n",
       "      <td>0.953633</td>\n",
       "      <td>0.0</td>\n",
       "    </tr>\n",
       "    <tr>\n",
       "      <th>id_004</th>\n",
       "      <td>-1.372859</td>\n",
       "      <td>0.352327</td>\n",
       "      <td>0.0</td>\n",
       "    </tr>\n",
       "    <tr>\n",
       "      <th>...</th>\n",
       "      <td>...</td>\n",
       "      <td>...</td>\n",
       "      <td>...</td>\n",
       "    </tr>\n",
       "    <tr>\n",
       "      <th>id_195</th>\n",
       "      <td>0.420192</td>\n",
       "      <td>0.600583</td>\n",
       "      <td>0.0</td>\n",
       "    </tr>\n",
       "    <tr>\n",
       "      <th>id_196</th>\n",
       "      <td>-0.856498</td>\n",
       "      <td>0.166255</td>\n",
       "      <td>0.0</td>\n",
       "    </tr>\n",
       "    <tr>\n",
       "      <th>id_197</th>\n",
       "      <td>0.097670</td>\n",
       "      <td>0.379737</td>\n",
       "      <td>0.0</td>\n",
       "    </tr>\n",
       "    <tr>\n",
       "      <th>id_198</th>\n",
       "      <td>-1.264498</td>\n",
       "      <td>0.617194</td>\n",
       "      <td>0.0</td>\n",
       "    </tr>\n",
       "    <tr>\n",
       "      <th>id_199</th>\n",
       "      <td>-1.793106</td>\n",
       "      <td>0.969819</td>\n",
       "      <td>0.0</td>\n",
       "    </tr>\n",
       "  </tbody>\n",
       "</table>\n",
       "<p>200 rows × 3 columns</p>\n",
       "</div>"
      ],
      "text/plain": [
       "             eps         Y    X\n",
       "id_000 -0.985804  0.039811  0.0\n",
       "id_001 -0.284155  0.273988  1.0\n",
       "id_002  1.194763  0.955649  0.0\n",
       "id_003  0.894647  0.953633  0.0\n",
       "id_004 -1.372859  0.352327  0.0\n",
       "...          ...       ...  ...\n",
       "id_195  0.420192  0.600583  0.0\n",
       "id_196 -0.856498  0.166255  0.0\n",
       "id_197  0.097670  0.379737  0.0\n",
       "id_198 -1.264498  0.617194  0.0\n",
       "id_199 -1.793106  0.969819  0.0\n",
       "\n",
       "[200 rows x 3 columns]"
      ]
     },
     "execution_count": 47,
     "metadata": {},
     "output_type": "execute_result"
    }
   ],
   "source": [
    "data.set_axis([f'id_'+str(i).rjust(3, '0') for i in range(200)])"
   ]
  },
  {
   "cell_type": "code",
   "execution_count": null,
   "metadata": {},
   "outputs": [
    {
     "data": {
      "text/html": [
       "<div>\n",
       "<style scoped>\n",
       "    .dataframe tbody tr th:only-of-type {\n",
       "        vertical-align: middle;\n",
       "    }\n",
       "\n",
       "    .dataframe tbody tr th {\n",
       "        vertical-align: top;\n",
       "    }\n",
       "\n",
       "    .dataframe thead th {\n",
       "        text-align: right;\n",
       "    }\n",
       "</style>\n",
       "<table border=\"1\" class=\"dataframe\">\n",
       "  <thead>\n",
       "    <tr style=\"text-align: right;\">\n",
       "      <th></th>\n",
       "      <th>W</th>\n",
       "      <th>X</th>\n",
       "      <th>Y</th>\n",
       "    </tr>\n",
       "  </thead>\n",
       "  <tbody>\n",
       "    <tr>\n",
       "      <th>0</th>\n",
       "      <td>0.003840</td>\n",
       "      <td>True</td>\n",
       "      <td>4.271492</td>\n",
       "    </tr>\n",
       "    <tr>\n",
       "      <th>1</th>\n",
       "      <td>0.036825</td>\n",
       "      <td>False</td>\n",
       "      <td>0.325553</td>\n",
       "    </tr>\n",
       "    <tr>\n",
       "      <th>2</th>\n",
       "      <td>0.097903</td>\n",
       "      <td>False</td>\n",
       "      <td>-1.059213</td>\n",
       "    </tr>\n",
       "    <tr>\n",
       "      <th>3</th>\n",
       "      <td>0.042074</td>\n",
       "      <td>True</td>\n",
       "      <td>1.708945</td>\n",
       "    </tr>\n",
       "    <tr>\n",
       "      <th>4</th>\n",
       "      <td>0.050195</td>\n",
       "      <td>True</td>\n",
       "      <td>1.498682</td>\n",
       "    </tr>\n",
       "    <tr>\n",
       "      <th>...</th>\n",
       "      <td>...</td>\n",
       "      <td>...</td>\n",
       "      <td>...</td>\n",
       "    </tr>\n",
       "    <tr>\n",
       "      <th>195</th>\n",
       "      <td>0.006409</td>\n",
       "      <td>True</td>\n",
       "      <td>2.777027</td>\n",
       "    </tr>\n",
       "    <tr>\n",
       "      <th>196</th>\n",
       "      <td>0.059614</td>\n",
       "      <td>True</td>\n",
       "      <td>2.810998</td>\n",
       "    </tr>\n",
       "    <tr>\n",
       "      <th>197</th>\n",
       "      <td>0.073958</td>\n",
       "      <td>True</td>\n",
       "      <td>3.700572</td>\n",
       "    </tr>\n",
       "    <tr>\n",
       "      <th>198</th>\n",
       "      <td>0.021097</td>\n",
       "      <td>False</td>\n",
       "      <td>0.066661</td>\n",
       "    </tr>\n",
       "    <tr>\n",
       "      <th>199</th>\n",
       "      <td>0.084162</td>\n",
       "      <td>False</td>\n",
       "      <td>0.707569</td>\n",
       "    </tr>\n",
       "  </tbody>\n",
       "</table>\n",
       "<p>200 rows × 3 columns</p>\n",
       "</div>"
      ],
      "text/plain": [
       "            W      X         Y\n",
       "0    0.003840   True  4.271492\n",
       "1    0.036825  False  0.325553\n",
       "2    0.097903  False -1.059213\n",
       "3    0.042074   True  1.708945\n",
       "4    0.050195   True  1.498682\n",
       "..        ...    ...       ...\n",
       "195  0.006409   True  2.777027\n",
       "196  0.059614   True  2.810998\n",
       "197  0.073958   True  3.700572\n",
       "198  0.021097  False  0.066661\n",
       "199  0.084162  False  0.707569\n",
       "\n",
       "[200 rows x 3 columns]"
      ]
     },
     "execution_count": 48,
     "metadata": {},
     "output_type": "execute_result"
    }
   ],
   "source": [
    "d = pd.DataFrame({\n",
    "    # Have W go from 0 to .1\n",
    "    'W': np.random.uniform(0, .1, size = 200)})\n",
    "\n",
    "# Higher W makes X = 1 more likely\n",
    "d['X'] = np.random.uniform(size = 200) < .2 + d['W']\n",
    "\n",
    "# The true effect of X on Y is 3\n",
    "d['Y'] = 3*d['X'] + d['W'] + np.random.normal(size = 200)\n"
   ]
  }
 ],
 "metadata": {
  "kernelspec": {
   "display_name": "Python 3.9.7 ('base')",
   "language": "python",
   "name": "python3"
  },
  "language_info": {
   "codemirror_mode": {
    "name": "ipython",
    "version": 3
   },
   "file_extension": ".py",
   "mimetype": "text/x-python",
   "name": "python",
   "nbconvert_exporter": "python",
   "pygments_lexer": "ipython3",
   "version": "3.9.7"
  },
  "orig_nbformat": 4,
  "vscode": {
   "interpreter": {
    "hash": "830b86ea7600a49451940bb09d13c842788ced1af83c77d7f8ac5a5027d43a79"
   }
  }
 },
 "nbformat": 4,
 "nbformat_minor": 2
}
